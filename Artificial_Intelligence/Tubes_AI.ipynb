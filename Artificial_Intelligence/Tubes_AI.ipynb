{
  "nbformat": 4,
  "nbformat_minor": 0,
  "metadata": {
    "colab": {
      "provenance": []
    },
    "kernelspec": {
      "name": "python3",
      "display_name": "Python 3"
    },
    "language_info": {
      "name": "python"
    }
  },
  "cells": [
    {
      "cell_type": "markdown",
      "source": [
        "## Tugas Besar Pemrograman Kecerdasan Artifisial"
      ],
      "metadata": {
        "id": "F2rR4O5M71n7"
      }
    },
    {
      "cell_type": "markdown",
      "source": [
        "Perbandingan Kinerja KNN dan Regresi untuk Prediksi Keputusan Pembelian Mobil\n",
        "\n",
        "Kelompok: 2\n",
        "\n",
        "Anggota:\n",
        "\n",
        "1.   M. Rafli Adhan S - 1301223042\n",
        "2.   Christoper Daeng Kilantan - 1301223402"
      ],
      "metadata": {
        "id": "v2NetfXm8BUE"
      }
    },
    {
      "cell_type": "markdown",
      "source": [
        "### Pendahuluan dan Paparan Data\n"
      ],
      "metadata": {
        "id": "wU2xB6fS7aqu"
      }
    },
    {
      "cell_type": "markdown",
      "source": [
        "**Latar Belakang:**\n",
        "\n",
        "Industri otomotif merupakan salah satu sektor ekonomi yang terus berkembang dengan persaingan yang semakin ketat. Dalam upaya untuk meningkatkan penjualan, perusahaan otomotif harus memahami perilaku dan preferensi konsumen untuk membuat strategi pemasaran yang lebih efektif dan efisien. Salah satu cara untuk mencapai pemahaman ini adalah dengan menggunakan analisis data dan metode prediksi keputusan pembelian mobil.\n",
        "\n",
        "**Masalah yang Ingin Diselesaikan:**\n",
        "\n",
        "Dalam dunia otomotif, memahami perilaku dan keputusan pembelian konsumen adalah kunci keberhasilan bagi produsen dan penjual mobil. Faktor-faktor seperti harga, fitur mobil, pendapatan pembeli, usia, dan preferensi lainnya memengaruhi keputusan pembelian konsumen. Dengan data historis mengenai pembelian mobil, prediksi keputusan pembelian di masa depan menjadi sangat penting untuk membantu pengambilan keputusan bisnis, seperti:\n",
        "\n",
        "1.   Segmentasi Pasar: Menentukan segmen pelanggan yang kemungkinan besar akan membeli mobil berdasarkan karakteristik tertentu.\n",
        "2.   Strategi Penetapan Harga: Memahami batas harga yang dapat diterima konsumen berdasarkan pola pembelian sebelumnya.\n",
        "3. Kampanye Pemasaran: Menargetkan kampanye pemasaran kepada kelompok pelanggan yang memiliki potensi tertinggi untuk membeli mobil.\n",
        "4. Pengembangan Produk: Mengidentifikasi fitur yang paling diinginkan konsumen untuk pengembangan model mobil baru.\n",
        "\n",
        "**Tujuan Penelitian:**\n",
        "\n",
        "Melakukan Perbandingan Performa KNN dan Regresi (Linear atau Logistik) dalam memprediksi keputusan pembelian mobil menggunakan metrik evaluasi seperti:\n",
        "\n",
        "*   Akurasi: Untuk klasifikasi.\n",
        "*   Precision, Recall, F1-score: Untuk mengevaluasi keseimbangan performa model dalam klasifikasi.\n"
      ],
      "metadata": {
        "id": "ApZ_wvUBQv5I"
      }
    },
    {
      "cell_type": "code",
      "execution_count": null,
      "metadata": {
        "id": "aYeTzN3ZbgcT"
      },
      "outputs": [],
      "source": [
        "import pandas as pd\n",
        "import matplotlib.pyplot as plt\n",
        "import seaborn as sns\n",
        "import numpy as np"
      ]
    },
    {
      "cell_type": "code",
      "source": [
        "data = pd.read_csv('/content/calonpembeli_ch5.csv')"
      ],
      "metadata": {
        "id": "gFbazx0yb5MW"
      },
      "execution_count": null,
      "outputs": []
    },
    {
      "cell_type": "markdown",
      "source": [
        "Sumber dataset dari buku pengenalan machine Learning yang ditulis oleh Dios Kurniawan, M. Sc\n",
        "\n",
        "dataset yang digunakan yaitu calonpembeli_ch5.csv\n",
        "\n",
        "Link : http://buku.dioskurn.com/\n",
        "\n"
      ],
      "metadata": {
        "id": "2Fri91gYEbwO"
      }
    },
    {
      "cell_type": "code",
      "source": [
        "data.info()"
      ],
      "metadata": {
        "colab": {
          "base_uri": "https://localhost:8080/"
        },
        "id": "7lPOyuakkPYh",
        "outputId": "f71f3ac4-2b16-4c05-d825-74e032b41984"
      },
      "execution_count": null,
      "outputs": [
        {
          "output_type": "stream",
          "name": "stdout",
          "text": [
            "<class 'pandas.core.frame.DataFrame'>\n",
            "RangeIndex: 1000 entries, 0 to 999\n",
            "Data columns (total 7 columns):\n",
            " #   Column          Non-Null Count  Dtype\n",
            "---  ------          --------------  -----\n",
            " 0   ID              1000 non-null   int64\n",
            " 1   Usia            1000 non-null   int64\n",
            " 2   Status          1000 non-null   int64\n",
            " 3   Kelamin         1000 non-null   int64\n",
            " 4   Memiliki_Mobil  1000 non-null   int64\n",
            " 5   Penghasilan     1000 non-null   int64\n",
            " 6   Beli_Mobil      1000 non-null   int64\n",
            "dtypes: int64(7)\n",
            "memory usage: 54.8 KB\n"
          ]
        }
      ]
    },
    {
      "cell_type": "code",
      "source": [
        "data.describe()"
      ],
      "metadata": {
        "colab": {
          "base_uri": "https://localhost:8080/",
          "height": 300
        },
        "id": "xaw0GrfCcI2e",
        "outputId": "c1501ccb-f419-4260-e31b-8f81957e50c6"
      },
      "execution_count": null,
      "outputs": [
        {
          "output_type": "execute_result",
          "data": {
            "text/plain": [
              "                ID         Usia       Status      Kelamin  Memiliki_Mobil  \\\n",
              "count  1000.000000  1000.000000  1000.000000  1000.000000      1000.00000   \n",
              "mean    500.500000    43.532000     1.469000     0.481000         0.95200   \n",
              "std     288.819436    12.672078     1.073402     0.499889         0.80146   \n",
              "min       1.000000    24.000000     0.000000     0.000000         0.00000   \n",
              "25%     250.750000    33.000000     1.000000     0.000000         0.00000   \n",
              "50%     500.500000    43.000000     1.000000     0.000000         1.00000   \n",
              "75%     750.250000    53.000000     2.000000     1.000000         2.00000   \n",
              "max    1000.000000   164.000000     3.000000     1.000000         4.00000   \n",
              "\n",
              "       Penghasilan   Beli_Mobil  \n",
              "count   1000.00000  1000.000000  \n",
              "mean     270.09000     0.633000  \n",
              "std       95.23681     0.482228  \n",
              "min       95.00000     0.000000  \n",
              "25%      187.00000     0.000000  \n",
              "50%      258.50000     1.000000  \n",
              "75%      352.25000     1.000000  \n",
              "max      490.00000     1.000000  "
            ],
            "text/html": [
              "\n",
              "  <div id=\"df-c8777022-64fd-4e4c-af7d-8a53aecfc4f6\" class=\"colab-df-container\">\n",
              "    <div>\n",
              "<style scoped>\n",
              "    .dataframe tbody tr th:only-of-type {\n",
              "        vertical-align: middle;\n",
              "    }\n",
              "\n",
              "    .dataframe tbody tr th {\n",
              "        vertical-align: top;\n",
              "    }\n",
              "\n",
              "    .dataframe thead th {\n",
              "        text-align: right;\n",
              "    }\n",
              "</style>\n",
              "<table border=\"1\" class=\"dataframe\">\n",
              "  <thead>\n",
              "    <tr style=\"text-align: right;\">\n",
              "      <th></th>\n",
              "      <th>ID</th>\n",
              "      <th>Usia</th>\n",
              "      <th>Status</th>\n",
              "      <th>Kelamin</th>\n",
              "      <th>Memiliki_Mobil</th>\n",
              "      <th>Penghasilan</th>\n",
              "      <th>Beli_Mobil</th>\n",
              "    </tr>\n",
              "  </thead>\n",
              "  <tbody>\n",
              "    <tr>\n",
              "      <th>count</th>\n",
              "      <td>1000.000000</td>\n",
              "      <td>1000.000000</td>\n",
              "      <td>1000.000000</td>\n",
              "      <td>1000.000000</td>\n",
              "      <td>1000.00000</td>\n",
              "      <td>1000.00000</td>\n",
              "      <td>1000.000000</td>\n",
              "    </tr>\n",
              "    <tr>\n",
              "      <th>mean</th>\n",
              "      <td>500.500000</td>\n",
              "      <td>43.532000</td>\n",
              "      <td>1.469000</td>\n",
              "      <td>0.481000</td>\n",
              "      <td>0.95200</td>\n",
              "      <td>270.09000</td>\n",
              "      <td>0.633000</td>\n",
              "    </tr>\n",
              "    <tr>\n",
              "      <th>std</th>\n",
              "      <td>288.819436</td>\n",
              "      <td>12.672078</td>\n",
              "      <td>1.073402</td>\n",
              "      <td>0.499889</td>\n",
              "      <td>0.80146</td>\n",
              "      <td>95.23681</td>\n",
              "      <td>0.482228</td>\n",
              "    </tr>\n",
              "    <tr>\n",
              "      <th>min</th>\n",
              "      <td>1.000000</td>\n",
              "      <td>24.000000</td>\n",
              "      <td>0.000000</td>\n",
              "      <td>0.000000</td>\n",
              "      <td>0.00000</td>\n",
              "      <td>95.00000</td>\n",
              "      <td>0.000000</td>\n",
              "    </tr>\n",
              "    <tr>\n",
              "      <th>25%</th>\n",
              "      <td>250.750000</td>\n",
              "      <td>33.000000</td>\n",
              "      <td>1.000000</td>\n",
              "      <td>0.000000</td>\n",
              "      <td>0.00000</td>\n",
              "      <td>187.00000</td>\n",
              "      <td>0.000000</td>\n",
              "    </tr>\n",
              "    <tr>\n",
              "      <th>50%</th>\n",
              "      <td>500.500000</td>\n",
              "      <td>43.000000</td>\n",
              "      <td>1.000000</td>\n",
              "      <td>0.000000</td>\n",
              "      <td>1.00000</td>\n",
              "      <td>258.50000</td>\n",
              "      <td>1.000000</td>\n",
              "    </tr>\n",
              "    <tr>\n",
              "      <th>75%</th>\n",
              "      <td>750.250000</td>\n",
              "      <td>53.000000</td>\n",
              "      <td>2.000000</td>\n",
              "      <td>1.000000</td>\n",
              "      <td>2.00000</td>\n",
              "      <td>352.25000</td>\n",
              "      <td>1.000000</td>\n",
              "    </tr>\n",
              "    <tr>\n",
              "      <th>max</th>\n",
              "      <td>1000.000000</td>\n",
              "      <td>164.000000</td>\n",
              "      <td>3.000000</td>\n",
              "      <td>1.000000</td>\n",
              "      <td>4.00000</td>\n",
              "      <td>490.00000</td>\n",
              "      <td>1.000000</td>\n",
              "    </tr>\n",
              "  </tbody>\n",
              "</table>\n",
              "</div>\n",
              "    <div class=\"colab-df-buttons\">\n",
              "\n",
              "  <div class=\"colab-df-container\">\n",
              "    <button class=\"colab-df-convert\" onclick=\"convertToInteractive('df-c8777022-64fd-4e4c-af7d-8a53aecfc4f6')\"\n",
              "            title=\"Convert this dataframe to an interactive table.\"\n",
              "            style=\"display:none;\">\n",
              "\n",
              "  <svg xmlns=\"http://www.w3.org/2000/svg\" height=\"24px\" viewBox=\"0 -960 960 960\">\n",
              "    <path d=\"M120-120v-720h720v720H120Zm60-500h600v-160H180v160Zm220 220h160v-160H400v160Zm0 220h160v-160H400v160ZM180-400h160v-160H180v160Zm440 0h160v-160H620v160ZM180-180h160v-160H180v160Zm440 0h160v-160H620v160Z\"/>\n",
              "  </svg>\n",
              "    </button>\n",
              "\n",
              "  <style>\n",
              "    .colab-df-container {\n",
              "      display:flex;\n",
              "      gap: 12px;\n",
              "    }\n",
              "\n",
              "    .colab-df-convert {\n",
              "      background-color: #E8F0FE;\n",
              "      border: none;\n",
              "      border-radius: 50%;\n",
              "      cursor: pointer;\n",
              "      display: none;\n",
              "      fill: #1967D2;\n",
              "      height: 32px;\n",
              "      padding: 0 0 0 0;\n",
              "      width: 32px;\n",
              "    }\n",
              "\n",
              "    .colab-df-convert:hover {\n",
              "      background-color: #E2EBFA;\n",
              "      box-shadow: 0px 1px 2px rgba(60, 64, 67, 0.3), 0px 1px 3px 1px rgba(60, 64, 67, 0.15);\n",
              "      fill: #174EA6;\n",
              "    }\n",
              "\n",
              "    .colab-df-buttons div {\n",
              "      margin-bottom: 4px;\n",
              "    }\n",
              "\n",
              "    [theme=dark] .colab-df-convert {\n",
              "      background-color: #3B4455;\n",
              "      fill: #D2E3FC;\n",
              "    }\n",
              "\n",
              "    [theme=dark] .colab-df-convert:hover {\n",
              "      background-color: #434B5C;\n",
              "      box-shadow: 0px 1px 3px 1px rgba(0, 0, 0, 0.15);\n",
              "      filter: drop-shadow(0px 1px 2px rgba(0, 0, 0, 0.3));\n",
              "      fill: #FFFFFF;\n",
              "    }\n",
              "  </style>\n",
              "\n",
              "    <script>\n",
              "      const buttonEl =\n",
              "        document.querySelector('#df-c8777022-64fd-4e4c-af7d-8a53aecfc4f6 button.colab-df-convert');\n",
              "      buttonEl.style.display =\n",
              "        google.colab.kernel.accessAllowed ? 'block' : 'none';\n",
              "\n",
              "      async function convertToInteractive(key) {\n",
              "        const element = document.querySelector('#df-c8777022-64fd-4e4c-af7d-8a53aecfc4f6');\n",
              "        const dataTable =\n",
              "          await google.colab.kernel.invokeFunction('convertToInteractive',\n",
              "                                                    [key], {});\n",
              "        if (!dataTable) return;\n",
              "\n",
              "        const docLinkHtml = 'Like what you see? Visit the ' +\n",
              "          '<a target=\"_blank\" href=https://colab.research.google.com/notebooks/data_table.ipynb>data table notebook</a>'\n",
              "          + ' to learn more about interactive tables.';\n",
              "        element.innerHTML = '';\n",
              "        dataTable['output_type'] = 'display_data';\n",
              "        await google.colab.output.renderOutput(dataTable, element);\n",
              "        const docLink = document.createElement('div');\n",
              "        docLink.innerHTML = docLinkHtml;\n",
              "        element.appendChild(docLink);\n",
              "      }\n",
              "    </script>\n",
              "  </div>\n",
              "\n",
              "\n",
              "<div id=\"df-c364968c-e01d-4ec4-bb00-ff88dc7ae223\">\n",
              "  <button class=\"colab-df-quickchart\" onclick=\"quickchart('df-c364968c-e01d-4ec4-bb00-ff88dc7ae223')\"\n",
              "            title=\"Suggest charts\"\n",
              "            style=\"display:none;\">\n",
              "\n",
              "<svg xmlns=\"http://www.w3.org/2000/svg\" height=\"24px\"viewBox=\"0 0 24 24\"\n",
              "     width=\"24px\">\n",
              "    <g>\n",
              "        <path d=\"M19 3H5c-1.1 0-2 .9-2 2v14c0 1.1.9 2 2 2h14c1.1 0 2-.9 2-2V5c0-1.1-.9-2-2-2zM9 17H7v-7h2v7zm4 0h-2V7h2v10zm4 0h-2v-4h2v4z\"/>\n",
              "    </g>\n",
              "</svg>\n",
              "  </button>\n",
              "\n",
              "<style>\n",
              "  .colab-df-quickchart {\n",
              "      --bg-color: #E8F0FE;\n",
              "      --fill-color: #1967D2;\n",
              "      --hover-bg-color: #E2EBFA;\n",
              "      --hover-fill-color: #174EA6;\n",
              "      --disabled-fill-color: #AAA;\n",
              "      --disabled-bg-color: #DDD;\n",
              "  }\n",
              "\n",
              "  [theme=dark] .colab-df-quickchart {\n",
              "      --bg-color: #3B4455;\n",
              "      --fill-color: #D2E3FC;\n",
              "      --hover-bg-color: #434B5C;\n",
              "      --hover-fill-color: #FFFFFF;\n",
              "      --disabled-bg-color: #3B4455;\n",
              "      --disabled-fill-color: #666;\n",
              "  }\n",
              "\n",
              "  .colab-df-quickchart {\n",
              "    background-color: var(--bg-color);\n",
              "    border: none;\n",
              "    border-radius: 50%;\n",
              "    cursor: pointer;\n",
              "    display: none;\n",
              "    fill: var(--fill-color);\n",
              "    height: 32px;\n",
              "    padding: 0;\n",
              "    width: 32px;\n",
              "  }\n",
              "\n",
              "  .colab-df-quickchart:hover {\n",
              "    background-color: var(--hover-bg-color);\n",
              "    box-shadow: 0 1px 2px rgba(60, 64, 67, 0.3), 0 1px 3px 1px rgba(60, 64, 67, 0.15);\n",
              "    fill: var(--button-hover-fill-color);\n",
              "  }\n",
              "\n",
              "  .colab-df-quickchart-complete:disabled,\n",
              "  .colab-df-quickchart-complete:disabled:hover {\n",
              "    background-color: var(--disabled-bg-color);\n",
              "    fill: var(--disabled-fill-color);\n",
              "    box-shadow: none;\n",
              "  }\n",
              "\n",
              "  .colab-df-spinner {\n",
              "    border: 2px solid var(--fill-color);\n",
              "    border-color: transparent;\n",
              "    border-bottom-color: var(--fill-color);\n",
              "    animation:\n",
              "      spin 1s steps(1) infinite;\n",
              "  }\n",
              "\n",
              "  @keyframes spin {\n",
              "    0% {\n",
              "      border-color: transparent;\n",
              "      border-bottom-color: var(--fill-color);\n",
              "      border-left-color: var(--fill-color);\n",
              "    }\n",
              "    20% {\n",
              "      border-color: transparent;\n",
              "      border-left-color: var(--fill-color);\n",
              "      border-top-color: var(--fill-color);\n",
              "    }\n",
              "    30% {\n",
              "      border-color: transparent;\n",
              "      border-left-color: var(--fill-color);\n",
              "      border-top-color: var(--fill-color);\n",
              "      border-right-color: var(--fill-color);\n",
              "    }\n",
              "    40% {\n",
              "      border-color: transparent;\n",
              "      border-right-color: var(--fill-color);\n",
              "      border-top-color: var(--fill-color);\n",
              "    }\n",
              "    60% {\n",
              "      border-color: transparent;\n",
              "      border-right-color: var(--fill-color);\n",
              "    }\n",
              "    80% {\n",
              "      border-color: transparent;\n",
              "      border-right-color: var(--fill-color);\n",
              "      border-bottom-color: var(--fill-color);\n",
              "    }\n",
              "    90% {\n",
              "      border-color: transparent;\n",
              "      border-bottom-color: var(--fill-color);\n",
              "    }\n",
              "  }\n",
              "</style>\n",
              "\n",
              "  <script>\n",
              "    async function quickchart(key) {\n",
              "      const quickchartButtonEl =\n",
              "        document.querySelector('#' + key + ' button');\n",
              "      quickchartButtonEl.disabled = true;  // To prevent multiple clicks.\n",
              "      quickchartButtonEl.classList.add('colab-df-spinner');\n",
              "      try {\n",
              "        const charts = await google.colab.kernel.invokeFunction(\n",
              "            'suggestCharts', [key], {});\n",
              "      } catch (error) {\n",
              "        console.error('Error during call to suggestCharts:', error);\n",
              "      }\n",
              "      quickchartButtonEl.classList.remove('colab-df-spinner');\n",
              "      quickchartButtonEl.classList.add('colab-df-quickchart-complete');\n",
              "    }\n",
              "    (() => {\n",
              "      let quickchartButtonEl =\n",
              "        document.querySelector('#df-c364968c-e01d-4ec4-bb00-ff88dc7ae223 button');\n",
              "      quickchartButtonEl.style.display =\n",
              "        google.colab.kernel.accessAllowed ? 'block' : 'none';\n",
              "    })();\n",
              "  </script>\n",
              "</div>\n",
              "\n",
              "    </div>\n",
              "  </div>\n"
            ],
            "application/vnd.google.colaboratory.intrinsic+json": {
              "type": "dataframe",
              "summary": "{\n  \"name\": \"data\",\n  \"rows\": 8,\n  \"fields\": [\n    {\n      \"column\": \"ID\",\n      \"properties\": {\n        \"dtype\": \"number\",\n        \"std\": 360.1000917722167,\n        \"min\": 1.0,\n        \"max\": 1000.0,\n        \"num_unique_values\": 6,\n        \"samples\": [\n          1000.0,\n          500.5,\n          750.25\n        ],\n        \"semantic_type\": \"\",\n        \"description\": \"\"\n      }\n    },\n    {\n      \"column\": \"Usia\",\n      \"properties\": {\n        \"dtype\": \"number\",\n        \"std\": 337.9694484600041,\n        \"min\": 12.672077870560827,\n        \"max\": 1000.0,\n        \"num_unique_values\": 8,\n        \"samples\": [\n          43.532,\n          43.0,\n          1000.0\n        ],\n        \"semantic_type\": \"\",\n        \"description\": \"\"\n      }\n    },\n    {\n      \"column\": \"Status\",\n      \"properties\": {\n        \"dtype\": \"number\",\n        \"std\": 353.0724991415817,\n        \"min\": 0.0,\n        \"max\": 1000.0,\n        \"num_unique_values\": 7,\n        \"samples\": [\n          1000.0,\n          1.469,\n          2.0\n        ],\n        \"semantic_type\": \"\",\n        \"description\": \"\"\n      }\n    },\n    {\n      \"column\": \"Kelamin\",\n      \"properties\": {\n        \"dtype\": \"number\",\n        \"std\": 353.40307790688973,\n        \"min\": 0.0,\n        \"max\": 1000.0,\n        \"num_unique_values\": 5,\n        \"samples\": [\n          0.481,\n          1.0,\n          0.49988887654046604\n        ],\n        \"semantic_type\": \"\",\n        \"description\": \"\"\n      }\n    },\n    {\n      \"column\": \"Memiliki_Mobil\",\n      \"properties\": {\n        \"dtype\": \"number\",\n        \"std\": 353.11362107624905,\n        \"min\": 0.0,\n        \"max\": 1000.0,\n        \"num_unique_values\": 7,\n        \"samples\": [\n          1000.0,\n          0.952,\n          2.0\n        ],\n        \"semantic_type\": \"\",\n        \"description\": \"\"\n      }\n    },\n    {\n      \"column\": \"Penghasilan\",\n      \"properties\": {\n        \"dtype\": \"number\",\n        \"std\": 295.93054239301597,\n        \"min\": 95.0,\n        \"max\": 1000.0,\n        \"num_unique_values\": 8,\n        \"samples\": [\n          270.09,\n          258.5,\n          1000.0\n        ],\n        \"semantic_type\": \"\",\n        \"description\": \"\"\n      }\n    },\n    {\n      \"column\": \"Beli_Mobil\",\n      \"properties\": {\n        \"dtype\": \"number\",\n        \"std\": 353.3457856028478,\n        \"min\": 0.0,\n        \"max\": 1000.0,\n        \"num_unique_values\": 5,\n        \"samples\": [\n          0.633,\n          1.0,\n          0.4822276884870315\n        ],\n        \"semantic_type\": \"\",\n        \"description\": \"\"\n      }\n    }\n  ]\n}"
            }
          },
          "metadata": {},
          "execution_count": 4
        }
      ]
    },
    {
      "cell_type": "markdown",
      "source": [
        "Terdapat data yang tidak realistis, pada baris 'Usia' dimana batas maksimal Calon Pembeli Mobil ada di umur 164 tahun. dapat dipastikan jika data ini sedikit keliru.\n"
      ],
      "metadata": {
        "id": "QRSLQIgJGDQ2"
      }
    },
    {
      "cell_type": "code",
      "source": [
        "sns.lmplot(x='Penghasilan', y='Usia', data=data)"
      ],
      "metadata": {
        "colab": {
          "base_uri": "https://localhost:8080/",
          "height": 524
        },
        "id": "sbGax_LDlTxM",
        "outputId": "666a6946-550f-4258-9666-e274d046e471"
      },
      "execution_count": null,
      "outputs": [
        {
          "output_type": "execute_result",
          "data": {
            "text/plain": [
              "<seaborn.axisgrid.FacetGrid at 0x7f0eacaea980>"
            ]
          },
          "metadata": {},
          "execution_count": 5
        },
        {
          "output_type": "display_data",
          "data": {
            "text/plain": [
              "<Figure size 500x500 with 1 Axes>"
            ],
            "image/png": "[encoded data removed]"
          },
          "metadata": {}
        }
      ]
    },
    {
      "cell_type": "markdown",
      "source": [
        "dapat dilihat dari gambar diatas terdapat 2 data anomali yang berada pada titk 164 dan titik 131 pada label 'usia'. Hal ini jika dibiarkan akan memengaruhi kinerja dan keakuratan model machine learning."
      ],
      "metadata": {
        "id": "6B7mrNC9HCqG"
      }
    },
    {
      "cell_type": "code",
      "source": [
        "#proses pre-processing dataset\n",
        "data_Bersih = data[data['Usia']<= 100]"
      ],
      "metadata": {
        "id": "9Vc_LkYcnxD4"
      },
      "execution_count": null,
      "outputs": []
    },
    {
      "cell_type": "code",
      "source": [
        "data_Bersih.describe()"
      ],
      "metadata": {
        "colab": {
          "base_uri": "https://localhost:8080/",
          "height": 300
        },
        "id": "i6WswtwCo_I9",
        "outputId": "f969a3f5-2837-4cde-9756-f03fd0cbdd2f"
      },
      "execution_count": null,
      "outputs": [
        {
          "output_type": "execute_result",
          "data": {
            "text/plain": [
              "                ID        Usia      Status     Kelamin  Memiliki_Mobil  \\\n",
              "count   998.000000  998.000000  998.000000  998.000000      998.000000   \n",
              "mean    501.073146   43.323647    1.469940    0.480962        0.953908   \n",
              "std     288.823862   11.774139    1.073338    0.499888        0.801127   \n",
              "min       1.000000   24.000000    0.000000    0.000000        0.000000   \n",
              "25%     252.250000   33.000000    1.000000    0.000000        0.000000   \n",
              "50%     501.500000   43.000000    1.000000    0.000000        1.000000   \n",
              "75%     750.750000   53.000000    2.000000    1.000000        2.000000   \n",
              "max    1000.000000   65.000000    3.000000    1.000000        4.000000   \n",
              "\n",
              "       Penghasilan  Beli_Mobil  \n",
              "count   998.000000  998.000000  \n",
              "mean    270.430862    0.634269  \n",
              "std      95.026802    0.481876  \n",
              "min      95.000000    0.000000  \n",
              "25%     187.250000    0.000000  \n",
              "50%     259.000000    1.000000  \n",
              "75%     352.750000    1.000000  \n",
              "max     490.000000    1.000000  "
            ],
            "text/html": [
              "\n",
              "  <div id=\"df-76d1bee0-7471-4745-ac91-3a2506eacd75\" class=\"colab-df-container\">\n",
              "    <div>\n",
              "<style scoped>\n",
              "    .dataframe tbody tr th:only-of-type {\n",
              "        vertical-align: middle;\n",
              "    }\n",
              "\n",
              "    .dataframe tbody tr th {\n",
              "        vertical-align: top;\n",
              "    }\n",
              "\n",
              "    .dataframe thead th {\n",
              "        text-align: right;\n",
              "    }\n",
              "</style>\n",
              "<table border=\"1\" class=\"dataframe\">\n",
              "  <thead>\n",
              "    <tr style=\"text-align: right;\">\n",
              "      <th></th>\n",
              "      <th>ID</th>\n",
              "      <th>Usia</th>\n",
              "      <th>Status</th>\n",
              "      <th>Kelamin</th>\n",
              "      <th>Memiliki_Mobil</th>\n",
              "      <th>Penghasilan</th>\n",
              "      <th>Beli_Mobil</th>\n",
              "    </tr>\n",
              "  </thead>\n",
              "  <tbody>\n",
              "    <tr>\n",
              "      <th>count</th>\n",
              "      <td>998.000000</td>\n",
              "      <td>998.000000</td>\n",
              "      <td>998.000000</td>\n",
              "      <td>998.000000</td>\n",
              "      <td>998.000000</td>\n",
              "      <td>998.000000</td>\n",
              "      <td>998.000000</td>\n",
              "    </tr>\n",
              "    <tr>\n",
              "      <th>mean</th>\n",
              "      <td>501.073146</td>\n",
              "      <td>43.323647</td>\n",
              "      <td>1.469940</td>\n",
              "      <td>0.480962</td>\n",
              "      <td>0.953908</td>\n",
              "      <td>270.430862</td>\n",
              "      <td>0.634269</td>\n",
              "    </tr>\n",
              "    <tr>\n",
              "      <th>std</th>\n",
              "      <td>288.823862</td>\n",
              "      <td>11.774139</td>\n",
              "      <td>1.073338</td>\n",
              "      <td>0.499888</td>\n",
              "      <td>0.801127</td>\n",
              "      <td>95.026802</td>\n",
              "      <td>0.481876</td>\n",
              "    </tr>\n",
              "    <tr>\n",
              "      <th>min</th>\n",
              "      <td>1.000000</td>\n",
              "      <td>24.000000</td>\n",
              "      <td>0.000000</td>\n",
              "      <td>0.000000</td>\n",
              "      <td>0.000000</td>\n",
              "      <td>95.000000</td>\n",
              "      <td>0.000000</td>\n",
              "    </tr>\n",
              "    <tr>\n",
              "      <th>25%</th>\n",
              "      <td>252.250000</td>\n",
              "      <td>33.000000</td>\n",
              "      <td>1.000000</td>\n",
              "      <td>0.000000</td>\n",
              "      <td>0.000000</td>\n",
              "      <td>187.250000</td>\n",
              "      <td>0.000000</td>\n",
              "    </tr>\n",
              "    <tr>\n",
              "      <th>50%</th>\n",
              "      <td>501.500000</td>\n",
              "      <td>43.000000</td>\n",
              "      <td>1.000000</td>\n",
              "      <td>0.000000</td>\n",
              "      <td>1.000000</td>\n",
              "      <td>259.000000</td>\n",
              "      <td>1.000000</td>\n",
              "    </tr>\n",
              "    <tr>\n",
              "      <th>75%</th>\n",
              "      <td>750.750000</td>\n",
              "      <td>53.000000</td>\n",
              "      <td>2.000000</td>\n",
              "      <td>1.000000</td>\n",
              "      <td>2.000000</td>\n",
              "      <td>352.750000</td>\n",
              "      <td>1.000000</td>\n",
              "    </tr>\n",
              "    <tr>\n",
              "      <th>max</th>\n",
              "      <td>1000.000000</td>\n",
              "      <td>65.000000</td>\n",
              "      <td>3.000000</td>\n",
              "      <td>1.000000</td>\n",
              "      <td>4.000000</td>\n",
              "      <td>490.000000</td>\n",
              "      <td>1.000000</td>\n",
              "    </tr>\n",
              "  </tbody>\n",
              "</table>\n",
              "</div>\n",
              "    <div class=\"colab-df-buttons\">\n",
              "\n",
              "  <div class=\"colab-df-container\">\n",
              "    <button class=\"colab-df-convert\" onclick=\"convertToInteractive('df-76d1bee0-7471-4745-ac91-3a2506eacd75')\"\n",
              "            title=\"Convert this dataframe to an interactive table.\"\n",
              "            style=\"display:none;\">\n",
              "\n",
              "  <svg xmlns=\"http://www.w3.org/2000/svg\" height=\"24px\" viewBox=\"0 -960 960 960\">\n",
              "    <path d=\"M120-120v-720h720v720H120Zm60-500h600v-160H180v160Zm220 220h160v-160H400v160Zm0 220h160v-160H400v160ZM180-400h160v-160H180v160Zm440 0h160v-160H620v160ZM180-180h160v-160H180v160Zm440 0h160v-160H620v160Z\"/>\n",
              "  </svg>\n",
              "    </button>\n",
              "\n",
              "  <style>\n",
              "    .colab-df-container {\n",
              "      display:flex;\n",
              "      gap: 12px;\n",
              "    }\n",
              "\n",
              "    .colab-df-convert {\n",
              "      background-color: #E8F0FE;\n",
              "      border: none;\n",
              "      border-radius: 50%;\n",
              "      cursor: pointer;\n",
              "      display: none;\n",
              "      fill: #1967D2;\n",
              "      height: 32px;\n",
              "      padding: 0 0 0 0;\n",
              "      width: 32px;\n",
              "    }\n",
              "\n",
              "    .colab-df-convert:hover {\n",
              "      background-color: #E2EBFA;\n",
              "      box-shadow: 0px 1px 2px rgba(60, 64, 67, 0.3), 0px 1px 3px 1px rgba(60, 64, 67, 0.15);\n",
              "      fill: #174EA6;\n",
              "    }\n",
              "\n",
              "    .colab-df-buttons div {\n",
              "      margin-bottom: 4px;\n",
              "    }\n",
              "\n",
              "    [theme=dark] .colab-df-convert {\n",
              "      background-color: #3B4455;\n",
              "      fill: #D2E3FC;\n",
              "    }\n",
              "\n",
              "    [theme=dark] .colab-df-convert:hover {\n",
              "      background-color: #434B5C;\n",
              "      box-shadow: 0px 1px 3px 1px rgba(0, 0, 0, 0.15);\n",
              "      filter: drop-shadow(0px 1px 2px rgba(0, 0, 0, 0.3));\n",
              "      fill: #FFFFFF;\n",
              "    }\n",
              "  </style>\n",
              "\n",
              "    <script>\n",
              "      const buttonEl =\n",
              "        document.querySelector('#df-76d1bee0-7471-4745-ac91-3a2506eacd75 button.colab-df-convert');\n",
              "      buttonEl.style.display =\n",
              "        google.colab.kernel.accessAllowed ? 'block' : 'none';\n",
              "\n",
              "      async function convertToInteractive(key) {\n",
              "        const element = document.querySelector('#df-76d1bee0-7471-4745-ac91-3a2506eacd75');\n",
              "        const dataTable =\n",
              "          await google.colab.kernel.invokeFunction('convertToInteractive',\n",
              "                                                    [key], {});\n",
              "        if (!dataTable) return;\n",
              "\n",
              "        const docLinkHtml = 'Like what you see? Visit the ' +\n",
              "          '<a target=\"_blank\" href=https://colab.research.google.com/notebooks/data_table.ipynb>data table notebook</a>'\n",
              "          + ' to learn more about interactive tables.';\n",
              "        element.innerHTML = '';\n",
              "        dataTable['output_type'] = 'display_data';\n",
              "        await google.colab.output.renderOutput(dataTable, element);\n",
              "        const docLink = document.createElement('div');\n",
              "        docLink.innerHTML = docLinkHtml;\n",
              "        element.appendChild(docLink);\n",
              "      }\n",
              "    </script>\n",
              "  </div>\n",
              "\n",
              "\n",
              "<div id=\"df-220bf279-89c9-4c7e-83f6-7b66925d6b5b\">\n",
              "  <button class=\"colab-df-quickchart\" onclick=\"quickchart('df-220bf279-89c9-4c7e-83f6-7b66925d6b5b')\"\n",
              "            title=\"Suggest charts\"\n",
              "            style=\"display:none;\">\n",
              "\n",
              "<svg xmlns=\"http://www.w3.org/2000/svg\" height=\"24px\"viewBox=\"0 0 24 24\"\n",
              "     width=\"24px\">\n",
              "    <g>\n",
              "        <path d=\"M19 3H5c-1.1 0-2 .9-2 2v14c0 1.1.9 2 2 2h14c1.1 0 2-.9 2-2V5c0-1.1-.9-2-2-2zM9 17H7v-7h2v7zm4 0h-2V7h2v10zm4 0h-2v-4h2v4z\"/>\n",
              "    </g>\n",
              "</svg>\n",
              "  </button>\n",
              "\n",
              "<style>\n",
              "  .colab-df-quickchart {\n",
              "      --bg-color: #E8F0FE;\n",
              "      --fill-color: #1967D2;\n",
              "      --hover-bg-color: #E2EBFA;\n",
              "      --hover-fill-color: #174EA6;\n",
              "      --disabled-fill-color: #AAA;\n",
              "      --disabled-bg-color: #DDD;\n",
              "  }\n",
              "\n",
              "  [theme=dark] .colab-df-quickchart {\n",
              "      --bg-color: #3B4455;\n",
              "      --fill-color: #D2E3FC;\n",
              "      --hover-bg-color: #434B5C;\n",
              "      --hover-fill-color: #FFFFFF;\n",
              "      --disabled-bg-color: #3B4455;\n",
              "      --disabled-fill-color: #666;\n",
              "  }\n",
              "\n",
              "  .colab-df-quickchart {\n",
              "    background-color: var(--bg-color);\n",
              "    border: none;\n",
              "    border-radius: 50%;\n",
              "    cursor: pointer;\n",
              "    display: none;\n",
              "    fill: var(--fill-color);\n",
              "    height: 32px;\n",
              "    padding: 0;\n",
              "    width: 32px;\n",
              "  }\n",
              "\n",
              "  .colab-df-quickchart:hover {\n",
              "    background-color: var(--hover-bg-color);\n",
              "    box-shadow: 0 1px 2px rgba(60, 64, 67, 0.3), 0 1px 3px 1px rgba(60, 64, 67, 0.15);\n",
              "    fill: var(--button-hover-fill-color);\n",
              "  }\n",
              "\n",
              "  .colab-df-quickchart-complete:disabled,\n",
              "  .colab-df-quickchart-complete:disabled:hover {\n",
              "    background-color: var(--disabled-bg-color);\n",
              "    fill: var(--disabled-fill-color);\n",
              "    box-shadow: none;\n",
              "  }\n",
              "\n",
              "  .colab-df-spinner {\n",
              "    border: 2px solid var(--fill-color);\n",
              "    border-color: transparent;\n",
              "    border-bottom-color: var(--fill-color);\n",
              "    animation:\n",
              "      spin 1s steps(1) infinite;\n",
              "  }\n",
              "\n",
              "  @keyframes spin {\n",
              "    0% {\n",
              "      border-color: transparent;\n",
              "      border-bottom-color: var(--fill-color);\n",
              "      border-left-color: var(--fill-color);\n",
              "    }\n",
              "    20% {\n",
              "      border-color: transparent;\n",
              "      border-left-color: var(--fill-color);\n",
              "      border-top-color: var(--fill-color);\n",
              "    }\n",
              "    30% {\n",
              "      border-color: transparent;\n",
              "      border-left-color: var(--fill-color);\n",
              "      border-top-color: var(--fill-color);\n",
              "      border-right-color: var(--fill-color);\n",
              "    }\n",
              "    40% {\n",
              "      border-color: transparent;\n",
              "      border-right-color: var(--fill-color);\n",
              "      border-top-color: var(--fill-color);\n",
              "    }\n",
              "    60% {\n",
              "      border-color: transparent;\n",
              "      border-right-color: var(--fill-color);\n",
              "    }\n",
              "    80% {\n",
              "      border-color: transparent;\n",
              "      border-right-color: var(--fill-color);\n",
              "      border-bottom-color: var(--fill-color);\n",
              "    }\n",
              "    90% {\n",
              "      border-color: transparent;\n",
              "      border-bottom-color: var(--fill-color);\n",
              "    }\n",
              "  }\n",
              "</style>\n",
              "\n",
              "  <script>\n",
              "    async function quickchart(key) {\n",
              "      const quickchartButtonEl =\n",
              "        document.querySelector('#' + key + ' button');\n",
              "      quickchartButtonEl.disabled = true;  // To prevent multiple clicks.\n",
              "      quickchartButtonEl.classList.add('colab-df-spinner');\n",
              "      try {\n",
              "        const charts = await google.colab.kernel.invokeFunction(\n",
              "            'suggestCharts', [key], {});\n",
              "      } catch (error) {\n",
              "        console.error('Error during call to suggestCharts:', error);\n",
              "      }\n",
              "      quickchartButtonEl.classList.remove('colab-df-spinner');\n",
              "      quickchartButtonEl.classList.add('colab-df-quickchart-complete');\n",
              "    }\n",
              "    (() => {\n",
              "      let quickchartButtonEl =\n",
              "        document.querySelector('#df-220bf279-89c9-4c7e-83f6-7b66925d6b5b button');\n",
              "      quickchartButtonEl.style.display =\n",
              "        google.colab.kernel.accessAllowed ? 'block' : 'none';\n",
              "    })();\n",
              "  </script>\n",
              "</div>\n",
              "\n",
              "    </div>\n",
              "  </div>\n"
            ],
            "application/vnd.google.colaboratory.intrinsic+json": {
              "type": "dataframe",
              "summary": "{\n  \"name\": \"data_Bersih\",\n  \"rows\": 8,\n  \"fields\": [\n    {\n      \"column\": \"ID\",\n      \"properties\": {\n        \"dtype\": \"number\",\n        \"std\": 359.58292552113244,\n        \"min\": 1.0,\n        \"max\": 1000.0,\n        \"num_unique_values\": 8,\n        \"samples\": [\n          501.0731462925852,\n          501.5,\n          998.0\n        ],\n        \"semantic_type\": \"\",\n        \"description\": \"\"\n      }\n    },\n    {\n      \"column\": \"Usia\",\n      \"properties\": {\n        \"dtype\": \"number\",\n        \"std\": 339.4546826321695,\n        \"min\": 11.774139161008593,\n        \"max\": 998.0,\n        \"num_unique_values\": 8,\n        \"samples\": [\n          43.32364729458918,\n          43.0,\n          998.0\n        ],\n        \"semantic_type\": \"\",\n        \"description\": \"\"\n      }\n    },\n    {\n      \"column\": \"Status\",\n      \"properties\": {\n        \"dtype\": \"number\",\n        \"std\": 352.3653503091809,\n        \"min\": 0.0,\n        \"max\": 998.0,\n        \"num_unique_values\": 7,\n        \"samples\": [\n          998.0,\n          1.4699398797595191,\n          2.0\n        ],\n        \"semantic_type\": \"\",\n        \"description\": \"\"\n      }\n    },\n    {\n      \"column\": \"Kelamin\",\n      \"properties\": {\n        \"dtype\": \"number\",\n        \"std\": 352.6959735869434,\n        \"min\": 0.0,\n        \"max\": 998.0,\n        \"num_unique_values\": 5,\n        \"samples\": [\n          0.48096192384769537,\n          1.0,\n          0.49988792781405306\n        ],\n        \"semantic_type\": \"\",\n        \"description\": \"\"\n      }\n    },\n    {\n      \"column\": \"Memiliki_Mobil\",\n      \"properties\": {\n        \"dtype\": \"number\",\n        \"std\": 352.4064392793268,\n        \"min\": 0.0,\n        \"max\": 998.0,\n        \"num_unique_values\": 7,\n        \"samples\": [\n          998.0,\n          0.9539078156312625,\n          2.0\n        ],\n        \"semantic_type\": \"\",\n        \"description\": \"\"\n      }\n    },\n    {\n      \"column\": \"Penghasilan\",\n      \"properties\": {\n        \"dtype\": \"number\",\n        \"std\": 295.2729046544792,\n        \"min\": 95.0,\n        \"max\": 998.0,\n        \"num_unique_values\": 8,\n        \"samples\": [\n          270.43086172344687,\n          259.0,\n          998.0\n        ],\n        \"semantic_type\": \"\",\n        \"description\": \"\"\n      }\n    },\n    {\n      \"column\": \"Beli_Mobil\",\n      \"properties\": {\n        \"dtype\": \"number\",\n        \"std\": 352.6386330365774,\n        \"min\": 0.0,\n        \"max\": 998.0,\n        \"num_unique_values\": 5,\n        \"samples\": [\n          0.6342685370741483,\n          1.0,\n          0.4818761562080305\n        ],\n        \"semantic_type\": \"\",\n        \"description\": \"\"\n      }\n    }\n  ]\n}"
            }
          },
          "metadata": {},
          "execution_count": 7
        }
      ]
    },
    {
      "cell_type": "code",
      "source": [
        "sns.lmplot(x='Penghasilan', y='Usia', data=data_Bersih)"
      ],
      "metadata": {
        "colab": {
          "base_uri": "https://localhost:8080/",
          "height": 525
        },
        "id": "mYkV9SWZpCdH",
        "outputId": "193fe7be-743d-4661-9c51-ac3ce0b61888"
      },
      "execution_count": null,
      "outputs": [
        {
          "output_type": "execute_result",
          "data": {
            "text/plain": [
              "<seaborn.axisgrid.FacetGrid at 0x7f0ead855f00>"
            ]
          },
          "metadata": {},
          "execution_count": 8
        },
        {
          "output_type": "display_data",
          "data": {
            "text/plain": [
              "<Figure size 500x500 with 1 Axes>"
            ],
            "image/png": "[encoded data removed]"
          },
          "metadata": {}
        }
      ]
    },
    {
      "cell_type": "code",
      "source": [
        "data_Bersih.isnull().sum()"
      ],
      "metadata": {
        "colab": {
          "base_uri": "https://localhost:8080/",
          "height": 303
        },
        "id": "Z8_VOAirpQxC",
        "outputId": "1fe87f67-b5ff-4539-8d79-a6d030799cca"
      },
      "execution_count": null,
      "outputs": [
        {
          "output_type": "execute_result",
          "data": {
            "text/plain": [
              "ID                0\n",
              "Usia              0\n",
              "Status            0\n",
              "Kelamin           0\n",
              "Memiliki_Mobil    0\n",
              "Penghasilan       0\n",
              "Beli_Mobil        0\n",
              "dtype: int64"
            ],
            "text/html": [
              "<div>\n",
              "<style scoped>\n",
              "    .dataframe tbody tr th:only-of-type {\n",
              "        vertical-align: middle;\n",
              "    }\n",
              "\n",
              "    .dataframe tbody tr th {\n",
              "        vertical-align: top;\n",
              "    }\n",
              "\n",
              "    .dataframe thead th {\n",
              "        text-align: right;\n",
              "    }\n",
              "</style>\n",
              "<table border=\"1\" class=\"dataframe\">\n",
              "  <thead>\n",
              "    <tr style=\"text-align: right;\">\n",
              "      <th></th>\n",
              "      <th>0</th>\n",
              "    </tr>\n",
              "  </thead>\n",
              "  <tbody>\n",
              "    <tr>\n",
              "      <th>ID</th>\n",
              "      <td>0</td>\n",
              "    </tr>\n",
              "    <tr>\n",
              "      <th>Usia</th>\n",
              "      <td>0</td>\n",
              "    </tr>\n",
              "    <tr>\n",
              "      <th>Status</th>\n",
              "      <td>0</td>\n",
              "    </tr>\n",
              "    <tr>\n",
              "      <th>Kelamin</th>\n",
              "      <td>0</td>\n",
              "    </tr>\n",
              "    <tr>\n",
              "      <th>Memiliki_Mobil</th>\n",
              "      <td>0</td>\n",
              "    </tr>\n",
              "    <tr>\n",
              "      <th>Penghasilan</th>\n",
              "      <td>0</td>\n",
              "    </tr>\n",
              "    <tr>\n",
              "      <th>Beli_Mobil</th>\n",
              "      <td>0</td>\n",
              "    </tr>\n",
              "  </tbody>\n",
              "</table>\n",
              "</div><br><label><b>dtype:</b> int64</label>"
            ]
          },
          "metadata": {},
          "execution_count": 9
        }
      ]
    },
    {
      "cell_type": "code",
      "source": [
        "data_Bersih['Beli_Mobil'].value_counts()"
      ],
      "metadata": {
        "colab": {
          "base_uri": "https://localhost:8080/",
          "height": 178
        },
        "id": "NFTwPCQdsRUg",
        "outputId": "a46672df-336e-437b-91e2-f68e146d780a"
      },
      "execution_count": null,
      "outputs": [
        {
          "output_type": "execute_result",
          "data": {
            "text/plain": [
              "Beli_Mobil\n",
              "1    633\n",
              "0    365\n",
              "Name: count, dtype: int64"
            ],
            "text/html": [
              "<div>\n",
              "<style scoped>\n",
              "    .dataframe tbody tr th:only-of-type {\n",
              "        vertical-align: middle;\n",
              "    }\n",
              "\n",
              "    .dataframe tbody tr th {\n",
              "        vertical-align: top;\n",
              "    }\n",
              "\n",
              "    .dataframe thead th {\n",
              "        text-align: right;\n",
              "    }\n",
              "</style>\n",
              "<table border=\"1\" class=\"dataframe\">\n",
              "  <thead>\n",
              "    <tr style=\"text-align: right;\">\n",
              "      <th></th>\n",
              "      <th>count</th>\n",
              "    </tr>\n",
              "    <tr>\n",
              "      <th>Beli_Mobil</th>\n",
              "      <th></th>\n",
              "    </tr>\n",
              "  </thead>\n",
              "  <tbody>\n",
              "    <tr>\n",
              "      <th>1</th>\n",
              "      <td>633</td>\n",
              "    </tr>\n",
              "    <tr>\n",
              "      <th>0</th>\n",
              "      <td>365</td>\n",
              "    </tr>\n",
              "  </tbody>\n",
              "</table>\n",
              "</div><br><label><b>dtype:</b> int64</label>"
            ]
          },
          "metadata": {},
          "execution_count": 10
        }
      ]
    },
    {
      "cell_type": "code",
      "source": [
        "#pembagian data Training (80%) dan Testing (20%)\n",
        "import sklearn.model_selection as ms\n",
        "x = data_Bersih[['Usia', 'Status', 'Kelamin', 'Memiliki_Mobil', 'Penghasilan']]\n",
        "y = data_Bersih['Beli_Mobil']\n",
        "x_train, x_test, y_train, y_test = ms.train_test_split(x, y, test_size=0.2, random_state=42)"
      ],
      "metadata": {
        "id": "Fg7ndRwi0wum"
      },
      "execution_count": null,
      "outputs": []
    },
    {
      "cell_type": "code",
      "source": [
        "x_train.shape, x_test.shape, y_train.shape, y_test.shape"
      ],
      "metadata": {
        "colab": {
          "base_uri": "https://localhost:8080/"
        },
        "id": "IDgcJ1qw6mum",
        "outputId": "941c6894-ef0f-4188-fdb1-808a68edd2a3"
      },
      "execution_count": null,
      "outputs": [
        {
          "output_type": "execute_result",
          "data": {
            "text/plain": [
              "((798, 5), (200, 5), (798,), (200,))"
            ]
          },
          "metadata": {},
          "execution_count": 12
        }
      ]
    },
    {
      "cell_type": "markdown",
      "source": [
        "**Alasan Kenapa dipilihnya metode KNN dan Regresi:**\n",
        "\n",
        "1.   K-Nearest Neighbors (KNN):\n",
        "\n",
        "*   Kemudahan Implementasi dan Fleksibilitas, KNN merupakan metode sederhana yang tidak memerlukan asumsi distribusi data. algoritma ini bekerja berdasarkan data dalam ruang fitur sehingga sangat fleksibel untuk berbagai tipe data baik itu klasifikasi maupun regresi.\n",
        "*   Kesesuaian untuk Prediksi Keputusan Pembelian, dalam kasus **klasifikasi** keputusan pembelian mobil, KNN secara alami akan mengelompokkan data berdasarkan kemiripan (similarity) dengan data yang sudah ada. sedangkan untuk **regresi** menggunakan rata-rata atau nilai terdekat untuk menghasilkan prediksi.\n",
        "*   Non-Linearitas, KNN tidak memerlukan hubungan linear antar variable.\n",
        "*   Penanganan Data yang Multidimensi, Algoritma ini mampu menangani banyak variabel fitur tanpa memerlukan pra-pemrosesan kompleks seperti transformasi data ke fungsi linear.\n",
        "\n",
        "2.   Regresi (Linear dan Logistik):\n",
        "\n",
        "*   Interpretasi yang Mudah, Regresi memberikan pemahaman tentang bagaimana setiap fitur dimana memengaruhi hasil Prediksi.\n",
        "*   Kesesuaian untuk Jenis Data, Sangat baik untuk prediksi numerik dan Cocok untuk prediksi klasifikasi biner.\n",
        "*   Efisiensi Komputasi, Regresi membutuhkan waktu komputasi yang jauh lebih sedikit dibandingkan KNN, terutama pada dataset besar, karena tidak memerlukan pencarian tetangga pada setiap prediksi.\n",
        "*   Validasi Asumsi Relasi Data, Regresi efektif ketika hubungan antar variabel independen dan dependen relatif linear atau memiliki transformasi yang dapat dimodelkan.\n"
      ],
      "metadata": {
        "id": "ewueGLG7hFfT"
      }
    },
    {
      "cell_type": "markdown",
      "source": [
        "## Metode dan Eksperimen"
      ],
      "metadata": {
        "id": "rULOOMgqAqzp"
      }
    },
    {
      "cell_type": "markdown",
      "source": [
        "Pengujian metode  K-Nearest-Neighbor"
      ],
      "metadata": {
        "id": "dG2olMQ5VxDU"
      }
    },
    {
      "cell_type": "code",
      "source": [
        "from sklearn.neighbors import KNeighborsClassifier\n",
        "from sklearn.metrics import accuracy_score"
      ],
      "metadata": {
        "id": "85haS3HBAxrQ"
      },
      "execution_count": null,
      "outputs": []
    },
    {
      "cell_type": "code",
      "source": [
        "# List untuk menyimpan hasil akurasi\n",
        "results_euclidean = []\n",
        "results_manhattan = []\n",
        "\n",
        "# Range nilai k yang akan diuji\n",
        "k_values = range(1, 21)\n",
        "\n",
        "# Loop untuk mencoba berbagai nilai k\n",
        "for k in k_values:\n",
        "    # Model dengan Euclidean Distance\n",
        "    knn_euclidean = KNeighborsClassifier(n_neighbors=k, metric='euclidean')\n",
        "    knn_euclidean.fit(x_train, y_train)\n",
        "    y_pred_euclidean = knn_euclidean.predict(x_test)\n",
        "    acc_euclidean = accuracy_score(y_test, y_pred_euclidean)\n",
        "    results_euclidean.append((k, acc_euclidean))\n",
        "\n",
        "    # Model dengan Manhattan Distance\n",
        "    knn_manhattan = KNeighborsClassifier(n_neighbors=k, metric='manhattan')\n",
        "    knn_manhattan.fit(x_train, y_train)\n",
        "    y_pred_manhattan = knn_manhattan.predict(x_test)\n",
        "    acc_manhattan = accuracy_score(y_test, y_pred_manhattan)\n",
        "    results_manhattan.append((k, acc_manhattan))"
      ],
      "metadata": {
        "id": "PnJaAsueaMTu"
      },
      "execution_count": null,
      "outputs": []
    },
    {
      "cell_type": "code",
      "source": [
        "# Mencari k terbaik untuk Euclidean\n",
        "best_k_euclidean, best_acc_euclidean = 0, 0\n",
        "for k, acc in results_euclidean:\n",
        "    if acc > best_acc_euclidean:\n",
        "        best_k_euclidean, best_acc_euclidean = k, acc\n",
        "print(f\"Best k for Euclidean: {best_k_euclidean}, Accuracy: {best_acc_euclidean:.2f}\")\n",
        "\n",
        "# Mencari k terbaik untuk Manhattan\n",
        "best_k_manhattan, best_acc_manhattan = 0, 0\n",
        "for k, acc in results_manhattan:\n",
        "    if acc > best_acc_manhattan:\n",
        "        best_k_manhattan, best_acc_manhattan = k, acc\n",
        "print(f\"Best k for Manhattan: {best_k_manhattan}, Accuracy: {best_acc_manhattan:.2f}\")\n",
        "\n"
      ],
      "metadata": {
        "colab": {
          "base_uri": "https://localhost:8080/"
        },
        "id": "o8zv6aFQaRsw",
        "outputId": "b148f957-f499-4472-ae89-d06570c995ed"
      },
      "execution_count": null,
      "outputs": [
        {
          "output_type": "stream",
          "name": "stdout",
          "text": [
            "Best k for Euclidean: 20, Accuracy: 0.94\n",
            "Best k for Manhattan: 17, Accuracy: 0.95\n"
          ]
        }
      ]
    },
    {
      "cell_type": "markdown",
      "source": [
        "Berdasarkan hasil:\n",
        "\n",
        "1.   Best k for Euclidean: nilai k terbaik adalah 20, dengan akurasi sebesar 94%. model KNN dengan Euclidean distance memberikan performa terbaik saat mempertimbangkan 20 tetangga terdekat untuk menentukan klasifikasi data.\n",
        "\n",
        "2.    Best k for Manhattan: Nilai k terbaik adalah 17, dengan akurasi sebesar 95%. Ini menunjukkan bahwa model KNN dengan Manhattan distance mencapai performa optimal saat mempertimbangkan 17 tetangga terdekat.\n",
        "\n",
        "\n",
        "\n"
      ],
      "metadata": {
        "id": "aBw0EcCzfNoC"
      }
    },
    {
      "cell_type": "code",
      "source": [
        "from sklearn.metrics import precision_score, recall_score, f1_score\n",
        "from sklearn.neighbors import KNeighborsClassifier\n",
        "\n",
        "# Fungsi untuk menghitung metrik tambahan\n",
        "def evaluate_model(y_true, y_pred, metric_name):\n",
        "    precision = precision_score(y_true, y_pred, average='binary')\n",
        "    recall = recall_score(y_true, y_pred, average='binary')\n",
        "    f1 = f1_score(y_true, y_pred, average='binary')\n",
        "    print(f\"{metric_name} - Precision: {precision:.2f}, Recall: {recall:.2f}, F1-Score: {f1:.2f}\")\n",
        "\n",
        "# Evaluasi model terbaik\n",
        "# Pastikan `best_k_euclidean` dan `best_k_manhattan` adalah integer, bukan list atau tuple\n",
        "knn_euclidean_best = KNeighborsClassifier(n_neighbors=best_k_euclidean, metric='euclidean')\n",
        "knn_euclidean_best.fit(x_train, y_train)\n",
        "y_pred_best_euclidean = knn_euclidean_best.predict(x_test)\n",
        "evaluate_model(y_test, y_pred_best_euclidean, \"Euclidean\")\n",
        "\n",
        "knn_manhattan_best = KNeighborsClassifier(n_neighbors=best_k_manhattan, metric='manhattan')\n",
        "knn_manhattan_best.fit(x_train, y_train)\n",
        "y_pred_best_manhattan = knn_manhattan_best.predict(x_test)\n",
        "evaluate_model(y_test, y_pred_best_manhattan, \"Manhattan\")\n"
      ],
      "metadata": {
        "colab": {
          "base_uri": "https://localhost:8080/"
        },
        "id": "m8ENgPkuaxCI",
        "outputId": "91215e93-5b27-4cae-bcfe-ec38afeb41aa"
      },
      "execution_count": null,
      "outputs": [
        {
          "output_type": "stream",
          "name": "stdout",
          "text": [
            "Euclidean - Precision: 0.94, Recall: 0.98, F1-Score: 0.96\n",
            "Manhattan - Precision: 0.95, Recall: 0.99, F1-Score: 0.97\n"
          ]
        }
      ]
    },
    {
      "cell_type": "markdown",
      "source": [
        "Hasil Evaluasi:\n",
        "\n",
        "1.   Precision: Ini berarti bahwa bahwa model dengan jarak Manhattan lebih sedikit menghasilkan prediksi positif yang salah (false positives), berarti model Manhattan lebih konservatif dalam memutuskan bahwa sebuah data adalah positif.\n",
        "2.   Recall: menunjukkan bahwa model Manhattan lebih sedikit kehilangan prediksi positif yang benar (false negatives), menunjukkan bahwa model Manhattan lebih baik dalam mendeteksi seluruh kasus positif.\n",
        "3.   F1-Score: F1-Score adalah rata-rata harmonis dari Precision dan Recall, sehingga performa keseluruhan Manhattan lebih baik dalam menyeimbangkan keduanya.\n"
      ],
      "metadata": {
        "id": "fC8Dngz9mhvR"
      }
    },
    {
      "cell_type": "code",
      "source": [
        "# Data evaluasi\n",
        "labels = ['Precision', 'Recall', 'F1-Score']\n",
        "euclidean_scores = [0.98, 0.94, 0.96]\n",
        "manhattan_scores = [0.97, 0.96, 0.97]\n",
        "\n",
        "# Menentukan posisi untuk grafik\n",
        "x = np.arange(len(labels))  # Posisi untuk masing-masing metrik\n",
        "width = 0.35  # Lebar bar\n",
        "\n",
        "# Membuat grafik\n",
        "fig, ax = plt.subplots(figsize=(8, 6))\n",
        "\n",
        "# Membuat bar untuk Euclidean dan Manhattan\n",
        "rects1 = ax.bar(x - width/2, euclidean_scores, width, label='Euclidean', color='b')\n",
        "rects2 = ax.bar(x + width/2, manhattan_scores, width, label='Manhattan', color='r')\n",
        "\n",
        "# Menambahkan label, judul, dan keterangan\n",
        "ax.set_xlabel('Metrik')\n",
        "ax.set_ylabel('Nilai')\n",
        "ax.set_title('Perbandingan Kinerja Euclidean dan Manhattan')\n",
        "ax.set_xticks(x)\n",
        "ax.set_xticklabels(labels)\n",
        "ax.legend()\n",
        "\n",
        "# Menampilkan nilai di atas bar\n",
        "def autolabel(rects):\n",
        "    for rect in rects:\n",
        "        height = rect.get_height()\n",
        "        ax.annotate(f'{height:.2f}',\n",
        "                    xy=(rect.get_x() + rect.get_width() / 2, height),\n",
        "                    xytext=(0, 3),  # Offset label\n",
        "                    textcoords=\"offset points\",\n",
        "                    ha='center', va='bottom')\n",
        "\n",
        "# Menambahkan label di atas bar\n",
        "autolabel(rects1)\n",
        "autolabel(rects2)\n",
        "\n",
        "# Menampilkan grafik\n",
        "plt.tight_layout()\n",
        "plt.show()"
      ],
      "metadata": {
        "colab": {
          "base_uri": "https://localhost:8080/",
          "height": 607
        },
        "id": "KDIUbpwKn5nS",
        "outputId": "f2a75a22-9e1f-433a-96f9-58a4b11bc658"
      },
      "execution_count": null,
      "outputs": [
        {
          "output_type": "display_data",
          "data": {
            "text/plain": [
              "<Figure size 800x600 with 1 Axes>"
            ],
            "image/png": "[encoded data removed]"
          },
          "metadata": {}
        }
      ]
    },
    {
      "cell_type": "markdown",
      "source": [
        "Pengujian metode Regression\n"
      ],
      "metadata": {
        "id": "yPxJ_EMVV6WC"
      }
    },
    {
      "cell_type": "code",
      "source": [
        "# Import library yang diperlukan\n",
        "import pandas as pd\n",
        "from sklearn.model_selection import train_test_split\n",
        "from sklearn.linear_model import LogisticRegression\n",
        "from sklearn.metrics import accuracy_score, precision_score, recall_score, f1_score, confusion_matrix\n",
        "from sklearn.preprocessing import StandardScaler\n",
        "\n",
        "# Load dataset\n",
        "import io\n",
        "df = pd.read_csv('/content/calonpembeli_ch5.csv')\n",
        "\n",
        "# Tampilkan 5 data pertama\n",
        "print(df.head())"
      ],
      "metadata": {
        "id": "60aRcEgsT71U",
        "colab": {
          "base_uri": "https://localhost:8080/"
        },
        "outputId": "3b5b3a5a-a1f2-47c6-860d-635bac816a14"
      },
      "execution_count": null,
      "outputs": [
        {
          "output_type": "stream",
          "name": "stdout",
          "text": [
            "   ID  Usia  Status  Kelamin  Memiliki_Mobil  Penghasilan  Beli_Mobil\n",
            "0   1    32       1        0               0          240           1\n",
            "1   2    49       2        1               1          100           0\n",
            "2   3    52       1        0               2          250           1\n",
            "3   4    26       2        1               1          130           0\n",
            "4   5    45       3        0               2          237           1\n"
          ]
        }
      ]
    },
    {
      "cell_type": "markdown",
      "source": [
        "Persiapan Data"
      ],
      "metadata": {
        "id": "_FPOcQWGPTcU"
      }
    },
    {
      "cell_type": "code",
      "source": [
        "# Pisahkan fitur (X) dan target (Y)\n",
        "X = df[['Usia', 'Status', 'Kelamin', 'Memiliki_Mobil', 'Penghasilan']]\n",
        "y = df['Beli_Mobil']\n",
        "\n",
        "# Bagi data menjadi training dan testing set (80% training, 20% testing)\n",
        "X_train, X_test, y_train, y_test = train_test_split(X, y, test_size=0.2, random_state=42)\n",
        "\n",
        "# Standarisasi fitur numerik\n",
        "scaler = StandardScaler()\n",
        "X_train = scaler.fit_transform(X_train)\n",
        "X_test = scaler.transform(X_test)"
      ],
      "metadata": {
        "id": "guQRAqfPPWH5"
      },
      "execution_count": null,
      "outputs": []
    },
    {
      "cell_type": "markdown",
      "source": [
        "Bangun dan Latih Model Logistic Regression"
      ],
      "metadata": {
        "id": "FLaEkzRIPu1J"
      }
    },
    {
      "cell_type": "code",
      "source": [
        "# Buat model Logistic Regression\n",
        "model = LogisticRegression()\n",
        "\n",
        "# Latih model\n",
        "model.fit(X_train, y_train)\n",
        "\n",
        "# Lakukan prediksi pada data uji\n",
        "y_pred = model.predict(X_test)\n"
      ],
      "metadata": {
        "id": "I7hdZvhzPvhh"
      },
      "execution_count": null,
      "outputs": []
    },
    {
      "cell_type": "markdown",
      "source": [
        "Evaluasi model"
      ],
      "metadata": {
        "id": "z7EKSwvTP1iV"
      }
    },
    {
      "cell_type": "code",
      "source": [
        "# Evaluasi performa model\n",
        "accuracy = accuracy_score(y_test, y_pred)\n",
        "precision = precision_score(y_test, y_pred)\n",
        "recall = recall_score(y_test, y_pred)\n",
        "f1 = f1_score(y_test, y_pred)\n",
        "conf_matrix = confusion_matrix(y_test, y_pred)\n",
        "\n",
        "print(\"Accuracy:\", accuracy)\n",
        "print(\"Precision:\", precision)\n",
        "print(\"Recall:\", recall)\n",
        "print(\"F1-Score:\", f1)\n",
        "print(\"Confusion Matrix:\\n\", conf_matrix)"
      ],
      "metadata": {
        "colab": {
          "base_uri": "https://localhost:8080/"
        },
        "id": "R5ZD-o3AP3WF",
        "outputId": "9c42845e-2064-4215-b8c0-80c2701e0fce"
      },
      "execution_count": null,
      "outputs": [
        {
          "output_type": "stream",
          "name": "stdout",
          "text": [
            "Accuracy: 0.925\n",
            "Precision: 0.935251798561151\n",
            "Recall: 0.9558823529411765\n",
            "F1-Score: 0.9454545454545454\n",
            "Confusion Matrix:\n",
            " [[ 55   9]\n",
            " [  6 130]]\n"
          ]
        }
      ]
    },
    {
      "cell_type": "markdown",
      "source": [
        "Prediksi Data Baru"
      ],
      "metadata": {
        "id": "KK5dzPe_QLai"
      }
    },
    {
      "cell_type": "code",
      "source": [
        "# Contoh prediksi data baru\n",
        "data_baru = [[30, 1, 0, 1, 300]]  # Usia, Status, Kelamin, Memiliki_Mobil, Penghasilan\n",
        "data_baru = scaler.transform(data_baru)\n",
        "prediksi = model.predict(data_baru)\n",
        "\n",
        "if prediksi[0] == 1:\n",
        "    print(\"Prediksi: Calon pembeli akan membeli mobil.\")\n",
        "else:\n",
        "    print(\"Prediksi: Calon pembeli tidak akan membeli mobil.\")"
      ],
      "metadata": {
        "colab": {
          "base_uri": "https://localhost:8080/"
        },
        "id": "Gt0oEMfMQNyB",
        "outputId": "6beb1151-bc55-4129-f0df-c96c3575c23f"
      },
      "execution_count": null,
      "outputs": [
        {
          "output_type": "stream",
          "name": "stdout",
          "text": [
            "Prediksi: Calon pembeli akan membeli mobil.\n"
          ]
        },
        {
          "output_type": "stream",
          "name": "stderr",
          "text": [
            "/usr/local/lib/python3.10/dist-packages/sklearn/utils/validation.py:2739: UserWarning: X does not have valid feature names, but StandardScaler was fitted with feature names\n",
            "  warnings.warn(\n"
          ]
        }
      ]
    },
    {
      "cell_type": "markdown",
      "source": [
        "**Kesimpulan:**\n",
        "\n",
        "*   KNN cenderung lebih unggul dalam hal recall dan F1-score, yang menunjukkan keseimbangan yang lebih baik antara precision dan recall, serta kemampuan untuk menangani data dengan hubungan yang lebih kompleks atau tidak linear.\n",
        "*   Regresi dapat lebih mudah diinterpretasikan dan memberikan wawasan lebih jelas tentang hubungan antara fitur dan keputusan pembelian mobil, tetapi mungkin tidak seefektif KNN dalam menangani pola data yang lebih rumit.\n",
        "*   KNN lebih fleksibel dalam memilih parameter (seperti nilai k) untuk mengoptimalkan kinerja, sementara regresi lebih tergantung pada asumsi linearitas hubungan antar fitur dan hasil.\n",
        "\n",
        "\n",
        "\n"
      ],
      "metadata": {
        "id": "Dqy_lq-7pITa"
      }
    }
  ]
}